{
 "cells": [
  {
   "cell_type": "markdown",
   "metadata": {},
   "source": [
    "# 📊 Exploration Initiale des Données\n",
    "## Projet: Détection de Fraudes dans les Transactions Bancaires\n",
    "\n",
    "**Auteur:** Dady Akrou Cyrille  \n",
    "**Email:** cyrilledady0501@gmail.com  \n",
    "**Institution:** UQTR - Université du Québec à Trois-Rivières  \n",
    "**Dataset:** Credit Card Fraud Detection (Kaggle)\n",
    "\n",
    "---\n",
    "\n",
    "## Objectifs de cette phase:\n",
    "1. Charger et inspecter le dataset\n",
    "2. Comprendre la structure des données\n",
    "3. Vérifier la qualité des données\n",
    "4. Analyser la distribution de la variable cible\n",
    "5. Identifier les premières caractéristiques importantes"
   ]
  },
  {
   "cell_type": "code",
   "execution_count": null,
   "metadata": {},
   "outputs": [],
   "source": [
    "# Import des librairies nécessaires\n",
    "import pandas as pd\n",
    "import numpy as np\n",
    "import matplotlib.pyplot as plt\n",
    "import seaborn as sns\n",
    "import plotly.express as px\n",
    "import plotly.graph_objects as go\n",
    "from plotly.subplots import make_subplots\n",
    "import warnings\n",
    "warnings.filterwarnings('ignore')\n",
    "\n",
    "# Configuration des graphiques\n",
    "plt.style.use('seaborn-v0_8')\n",
    "sns.set_palette('husl')\n",
    "plt.rcParams['figure.figsize'] = (12, 8)\n",
    "plt.rcParams['font.size'] = 12\n",
    "\n",
    "print('✅ Librairies importées avec succès!')"
   ]
  },
  {
   "cell_type": "markdown",
   "metadata": {},
   "source": [
    "## 1. Chargement des Données"
   ]
  },
  {
   "cell_type": "code",
   "execution_count": null,
   "metadata": {},
   "outputs": [],
   "source": [
    "# Chargement du dataset\n",
    "data_path = '../Credit Card Fraud Detection/creditcard.csv'\n",
    "\n",
    "print('📂 Chargement du dataset...')\n",
    "df = pd.read_csv(data_path)\n",
    "\n",
    "print(f'✅ Dataset chargé avec succès!')\n",
    "print(f'📊 Forme du dataset: {df.shape}')\n",
    "print(f'📈 Nombre de transactions: {df.shape[0]:,}')\n",
    "print(f'📋 Nombre de variables: {df.shape[1]}')"
   ]
  },
  {
   "cell_type": "markdown",
   "metadata": {},
   "source": [
    "## 2. Inspection de la Structure des Données"
   ]
  },
  {
   "cell_type": "code",
   "execution_count": null,
   "metadata": {},
   "outputs": [],
   "source": [
    "# Aperçu des premières lignes\n",
    "print('🔍 Aperçu des premières lignes:')\n",
    "display(df.head())\n",
    "\n",
    "print('\\n' + '='*50)\n",
    "print('📋 Informations générales sur le dataset:')\n",
    "df.info()"
   ]
  },
  {
   "cell_type": "code",
   "execution_count": null,
   "metadata": {},
   "outputs": [],
   "source": [
    "# Liste des colonnes\n",
    "print('📝 Liste des variables:')\n",
    "for i, col in enumerate(df.columns, 1):\n",
    "    print(f'{i:2d}. {col}')\n",
    "\n",
    "print(f'\\n📊 Types de données:')\n",
    "print(df.dtypes.value_counts())"
   ]
  },
  {
   "cell_type": "markdown",
   "metadata": {},
   "source": [
    "## 3. Qualité des Données"
   ]
  },
  {
   "cell_type": "code",
   "execution_count": null,
   "metadata": {},
   "outputs": [],
   "source": [
    "# Vérification des valeurs manquantes\n",
    "print('🔍 Vérification des valeurs manquantes:')\n",
    "missing_values = df.isnull().sum()\n",
    "\n",
    "if missing_values.sum() == 0:\n",
    "    print('✅ Aucune valeur manquante détectée!')\n",
    "else:\n",
    "    print('⚠️ Valeurs manquantes détectées:')\n",
    "    print(missing_values[missing_values > 0])\n",
    "\n",
    "# Vérification des doublons\n",
    "duplicates = df.duplicated().sum()\n",
    "print(f'🔄 Nombre de doublons: {duplicates}')\n",
    "\n",
    "if duplicates > 0:\n",
    "    print('⚠️ Doublons détectés!')\n",
    "else:\n",
    "    print('✅ Aucun doublon détecté!')"
   ]
  },
  {
   "cell_type": "markdown",
   "metadata": {},
   "source": [
    "## 4. Analyse de la Variable Cible (Class)"
   ]
  },
  {
   "cell_type": "code",
   "execution_count": null,
   "metadata": {},
   "outputs": [],
   "source": [
    "# Distribution de la variable cible\n",
    "print('🎯 Analyse de la variable cible (Class):')\n",
    "class_counts = df['Class'].value_counts()\n",
    "class_percentages = df['Class'].value_counts(normalize=True) * 100\n",
    "\n",
    "print('\\n📊 Distribution des classes:')\n",
    "for class_val in [0, 1]:\n",
    "    count = class_counts[class_val]\n",
    "    percentage = class_percentages[class_val]\n",
    "    label = 'Transactions Normales' if class_val == 0 else 'Fraudes'\n",
    "    print(f'{label}: {count:,} ({percentage:.3f}%)')\n",
    "\n",
    "# Ratio de déséquilibre\n",
    "imbalance_ratio = class_counts[0] / class_counts[1]\n",
    "print(f'\\n⚖️ Ratio de déséquilibre: {imbalance_ratio:.1f}:1')\n",
    "print(f'📈 Pour chaque fraude, il y a {imbalance_ratio:.0f} transactions normales')"
   ]
  },
  {
   "cell_type": "code",
   "execution_count": null,
   "metadata": {},
   "outputs": [],
   "source": [
    "# Visualisation de la distribution des classes\n",
    "fig, axes = plt.subplots(1, 2, figsize=(15, 6))\n",
    "\n",
    "# Graphique en barres\n",
    "class_counts.plot(kind='bar', ax=axes[0], color=['skyblue', 'salmon'])\n",
    "axes[0].set_title('Distribution des Classes\\n(Nombre de Transactions)', fontsize=14, fontweight='bold')\n",
    "axes[0].set_xlabel('Classe')\n",
    "axes[0].set_ylabel('Nombre de Transactions')\n",
    "axes[0].set_xticklabels(['Normal (0)', 'Fraude (1)'], rotation=0)\n",
    "\n",
    "# Ajout des valeurs sur les barres\n",
    "for i, v in enumerate(class_counts.values):\n",
    "    axes[0].text(i, v + 1000, f'{v:,}', ha='center', va='bottom', fontweight='bold')\n",
    "\n",
    "# Graphique en secteurs\n",
    "colors = ['lightblue', 'lightcoral']\n",
    "wedges, texts, autotexts = axes[1].pie(class_counts.values, \n",
    "                                       labels=['Normal', 'Fraude'],\n",
    "                                       autopct='%1.3f%%',\n",
    "                                       colors=colors,\n",
    "                                       startangle=90)\n",
    "axes[1].set_title('Répartition des Classes\\n(Pourcentages)', fontsize=14, fontweight='bold')\n",
    "\n",
    "# Amélioration de la lisibilité\n",
    "for autotext in autotexts:\n",
    "    autotext.set_color('white')\n",
    "    autotext.set_fontweight('bold')\n",
    "\n",
    "plt.tight_layout()\n",
    "plt.show()\n",
    "\n",
    "# Sauvegarde du graphique\n",
    "plt.savefig('../reports/figures/01_distribution_classes.png', dpi=300, bbox_inches='tight')\n",
    "print('💾 Graphique sauvegardé: reports/figures/01_distribution_classes.png')"
   ]
  },
  {
   "cell_type": "markdown",
   "metadata": {},
   "source": [
    "## 5. Statistiques Descriptives Générales"
   ]
  },
  {
   "cell_type": "code",
   "execution_count": null,
   "metadata": {},
   "outputs": [],
   "source": [
    "# Statistiques descriptives\n",
    "print('📈 Statistiques descriptives générales:')\n",
    "desc_stats = df.describe()\n",
    "display(desc_stats)\n",
    "\n",
    "# Focus sur les variables non-PCA (Time, Amount, Class)\n",
    "print('\\n🔍 Focus sur les variables principales:')\n",
    "main_vars = ['Time', 'Amount', 'Class']\n",
    "display(df[main_vars].describe())"
   ]
  },
  {
   "cell_type": "code",
   "execution_count": null,
   "metadata": {},
   "outputs": [],
   "source": [
    "# Analyse de la variable Time\n",
    "print('⏰ Analyse de la variable Time:')\n",
    "time_stats = df['Time'].describe()\n",
    "print(f'Durée totale: {time_stats[\"max\"]:.0f} secondes')\n",
    "print(f'Soit environ: {time_stats[\"max\"]/3600:.1f} heures')\n",
    "print(f'Ou environ: {time_stats[\"max\"]/(3600*24):.1f} jours')\n",
    "\n",
    "# Analyse de la variable Amount\n",
    "print('\\n💰 Analyse de la variable Amount:')\n",
    "amount_stats = df['Amount'].describe()\n",
    "print(f'Montant minimum: ${amount_stats[\"min\"]:.2f}')\n",
    "print(f'Montant maximum: ${amount_stats[\"max\"]:.2f}')\n",
    "print(f'Montant médian: ${amount_stats[\"50%\"]:.2f}')\n",
    "print(f'Montant moyen: ${amount_stats[\"mean\"]:.2f}')"
   ]
  },
  {
   "cell_type": "markdown",
   "metadata": {},
   "source": [
    "## 6. Première Analyse des Variables PCA"
   ]
  },
  {
   "cell_type": "code",
   "execution_count": null,
   "metadata": {},
   "outputs": [],
   "source": [
    "# Identification des variables PCA\n",
    "pca_columns = [col for col in df.columns if col.startswith('V')]\n",
    "print(f'🔢 Nombre de variables PCA: {len(pca_columns)}')\n",
    "print(f'📝 Variables PCA: {pca_columns}')\n",
    "\n",
    "# Statistiques des variables PCA\n",
    "pca_stats = df[pca_columns].describe()\n",
    "print('\\n📊 Statistiques des variables PCA:')\n",
    "display(pca_stats.round(4))"
   ]
  },
  {
   "cell_type": "code",
   "execution_count": null,
   "metadata": {},
   "outputs": [],
   "source": [
    "# Visualisation de la distribution des variables PCA\n",
    "fig, axes = plt.subplots(7, 4, figsize=(20, 25))\n",
    "axes = axes.ravel()\n",
    "\n",
    "for i, col in enumerate(pca_columns):\n",
    "    df[col].hist(bins=50, ax=axes[i], alpha=0.7, color='steelblue')\n",
    "    axes[i].set_title(f'Distribution de {col}', fontsize=12)\n",
    "    axes[i].set_xlabel(col)\n",
    "    axes[i].set_ylabel('Fréquence')\n",
    "    axes[i].grid(True, alpha=0.3)\n",
    "\n",
    "plt.suptitle('Distribution des Variables PCA (V1-V28)', fontsize=16, fontweight='bold', y=0.995)\n",
    "plt.tight_layout()\n",
    "plt.show()\n",
    "\n",
    "# Sauvegarde\n",
    "plt.savefig('../reports/figures/01_distribution_variables_pca.png', dpi=300, bbox_inches='tight')\n",
    "print('💾 Graphique sauvegardé: reports/figures/01_distribution_variables_pca.png')"
   ]
  },
  {
   "cell_type": "markdown",
   "metadata": {},
   "source": [
    "## 7. Résumé de l'Exploration Initiale"
   ]
  },
  {
   "cell_type": "code",
   "execution_count": null,
   "metadata": {},
   "outputs": [],
   "source": [
    "# Résumé des découvertes\n",
    "print('📋 RÉSUMÉ DE L\\\'EXPLORATION INITIALE')\n",
    "print('='*50)\n",
    "\n",
    "print('🎯 CARACTÉRISTIQUES DU DATASET:')\n",
    "print(f'   • {df.shape[0]:,} transactions sur {df.shape[1]} variables')\n",
    "print(f'   • Période: ~{df[\"Time\"].max()/(3600*24):.1f} jours de données')\n",
    "print(f'   • Aucune valeur manquante')\n",
    "print(f'   • Aucun doublon')\n",
    "\n",
    "print('⚖️ DÉSÉQUILIBRE DES CLASSES:')\n",
    "print(f'   • Fraudes: {class_counts[1]:,} ({class_percentages[1]:.3f}%)')\n",
    "print(f'   • Normales: {class_counts[0]:,} ({class_percentages[0]:.3f}%)')\n",
    "print(f'   • Ratio: {imbalance_ratio:.0f}:1')\n",
    "\n",
    "print('🔢 VARIABLES:')\n",
    "print(f'   • 28 variables PCA (V1-V28) - anonymisées')\n",
    "print(f'   • Time: temps écoulé depuis la première transaction')\n",
    "print(f'   • Amount: montant de la transaction')\n",
    "print(f'   • Class: variable cible (0=normal, 1=fraude)')\n",
    "\n",
    "print('💰 MONTANTS:')\n",
    "print(f'   • Minimum: ${df[\"Amount\"].min():.2f}')\n",
    "print(f'   • Maximum: ${df[\"Amount\"].max():.2f}')\n",
    "print(f'   • Médiane: ${df[\"Amount\"].median():.2f}')\n",
    "\n",
    "print('🚀 PROCHAINES ÉTAPES:')\n",
    "print('   1. Analyse univariée détaillée')\n",
    "print('   2. Analyse multivariée et corrélations')\n",
    "print('   3. Comparaison fraudes vs normales')\n",
    "print('   4. Visualisations avancées')\n",
    "print('   5. Développement du dashboard')"
   ]
  },
  {
   "cell_type": "markdown",
   "metadata": {},
   "source": [
    "---\n",
    "\n",
    "## ✅ Conclusion de l'Exploration Initiale\n",
    "\n",
    "Cette première phase nous a permis de:\n",
    "\n",
    "1. **Comprendre la structure** du dataset (284,807 transactions, 31 variables)\n",
    "2. **Confirmer la qualité** des données (aucune valeur manquante, aucun doublon)\n",
    "3. **Identifier le défi principal** : déséquilibre extrême des classes (0.172% de fraudes)\n",
    "4. **Analyser les variables** : 28 composantes PCA + Time, Amount, Class\n",
    "5. **Préparer les analyses suivantes** avec une base solide\n",
    "\n",
    "Le dataset est de très bonne qualité et prêt pour les analyses approfondies. Le déséquilibre des classes sera un point d'attention important pour toutes les analyses suivantes.\n",
    "\n",
    "**Prochaine étape:** Analyse univariée détaillée dans le notebook `02_analyse_univariee.ipynb`"
   ]
  }
 ],
 "metadata": {
  "kernelspec": {
   "display_name": "Python 3",
   "language": "python",
   "name": "python3"
  },
  "language_info": {
   "codemirror_mode": {
    "name": "ipython",
    "version": 3
   },
   "file_extension": ".py",
   "mimetype": "text/x-python",
   "name": "python",
   "nbconvert_exporter": "python",
   "pygments_lexer": "ipython3",
   "version": "3.8.0"
  }
 },
 "nbformat": 4,
 "nbformat_minor": 4
}